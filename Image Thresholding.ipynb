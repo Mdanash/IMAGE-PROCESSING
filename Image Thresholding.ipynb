{
 "cells": [
  {
   "cell_type": "markdown",
   "id": "84f5a16f",
   "metadata": {},
   "source": [
    "# Image Thresholding"
   ]
  },
  {
   "cell_type": "code",
   "execution_count": 3,
   "id": "0c5fceee",
   "metadata": {},
   "outputs": [],
   "source": [
    "import cv2\n"
   ]
  },
  {
   "cell_type": "code",
   "execution_count": 4,
   "id": "cdb4a3b2",
   "metadata": {},
   "outputs": [],
   "source": [
    "img=cv2.imread(\"dark_book.jpg\")"
   ]
  },
  {
   "cell_type": "code",
   "execution_count": 9,
   "id": "479c1bca",
   "metadata": {},
   "outputs": [
    {
     "data": {
      "text/plain": [
       "-1"
      ]
     },
     "execution_count": 9,
     "metadata": {},
     "output_type": "execute_result"
    }
   ],
   "source": [
    "cv2.imshow(\"image\",img)\n",
    "cv2.waitKey(0)"
   ]
  },
  {
   "cell_type": "code",
   "execution_count": 8,
   "id": "17b21068",
   "metadata": {},
   "outputs": [],
   "source": [
    "grey=cv2.imread(\"dark_book.jpg\",0)"
   ]
  },
  {
   "cell_type": "code",
   "execution_count": 10,
   "id": "cccb1117",
   "metadata": {},
   "outputs": [
    {
     "data": {
      "text/plain": [
       "-1"
      ]
     },
     "execution_count": 10,
     "metadata": {},
     "output_type": "execute_result"
    }
   ],
   "source": [
    "cv2.imshow(\"image\",grey)\n",
    "cv2.waitKey(0)"
   ]
  },
  {
   "cell_type": "code",
   "execution_count": 13,
   "id": "9ff888eb",
   "metadata": {},
   "outputs": [],
   "source": [
    "ret,thresh1=cv2.threshold(img,15,150,cv2.THRESH_BINARY)\n",
    "ret,thresh2=cv2.threshold(img,15,255,cv2.THRESH_BINARY_INV)\n",
    "ret,thresh3=cv2.threshold(img,15,255,cv2.THRESH_TRUNC)\n",
    "ret,thresh4=cv2.threshold(img,15,255,cv2.THRESH_TOZERO)\n",
    "ret,thresh5=cv2.threshold(img,15,255,cv2.THRESH_TOZERO_INV)"
   ]
  },
  {
   "cell_type": "code",
   "execution_count": 14,
   "id": "dc56ab28",
   "metadata": {},
   "outputs": [
    {
     "data": {
      "text/plain": [
       "-1"
      ]
     },
     "execution_count": 14,
     "metadata": {},
     "output_type": "execute_result"
    }
   ],
   "source": [
    "cv2.imshow(\"i1\",thresh1)\n",
    "cv2.imshow(\"image2\",thresh2)\n",
    "cv2.imshow(\"image\",thresh3)\n",
    "cv2.imshow(\"image\",thresh4)\n",
    "cv2.imshow(\"image\",thresh5)\n",
    "\n",
    "cv2.waitKey(0)"
   ]
  },
  {
   "cell_type": "code",
   "execution_count": null,
   "id": "f6a42899",
   "metadata": {},
   "outputs": [],
   "source": []
  }
 ],
 "metadata": {
  "kernelspec": {
   "display_name": "Python 3 (ipykernel)",
   "language": "python",
   "name": "python3"
  },
  "language_info": {
   "codemirror_mode": {
    "name": "ipython",
    "version": 3
   },
   "file_extension": ".py",
   "mimetype": "text/x-python",
   "name": "python",
   "nbconvert_exporter": "python",
   "pygments_lexer": "ipython3",
   "version": "3.9.16"
  }
 },
 "nbformat": 4,
 "nbformat_minor": 5
}
